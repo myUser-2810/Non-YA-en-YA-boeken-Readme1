{
 "cells": [
  {
   "cell_type": "code",
   "execution_count": 32,
   "id": "cd0782c7",
   "metadata": {},
   "outputs": [
    {
     "name": "stderr",
     "output_type": "stream",
     "text": [
      "[nltk_data] Downloading package punkt to\n",
      "[nltk_data]     C:\\Users\\alyab\\AppData\\Roaming\\nltk_data...\n",
      "[nltk_data]   Package punkt is already up-to-date!\n"
     ]
    }
   ],
   "source": [
    "#file path voor jupyter notebooks\n",
    "import os\n",
    "\n",
    "current_folder = globals()['_dh'][0]\n",
    "data_location = os.path.join(current_folder,'data.csv')\n",
    "\n",
    "import nltk\n",
    "nltk.download('punkt')\n",
    "from nltk.tokenize import sent_tokenize\n",
    "\n",
    "import string\n",
    "import collections as ct\n",
    "\n",
    "import ebooklib\n",
    "from ebooklib import epub"
   ]
  },
  {
   "cell_type": "code",
   "execution_count": 41,
   "id": "6f4fe09d",
   "metadata": {},
   "outputs": [],
   "source": [
    "# Lezen van boeken\n",
    "from pathlib import Path\n",
    "\n",
    "\n",
    "file = Path.cwd() / 'YA boeken/Brainwash.txt'\n",
    "\n",
    "with open(file, 'r', encoding=\"utf8\") as text:\n",
    "    textfile = text.read()"
   ]
  },
  {
   "cell_type": "code",
   "execution_count": 42,
   "id": "b4e2e0f0",
   "metadata": {},
   "outputs": [
    {
     "name": "stdout",
     "output_type": "stream",
     "text": [
      "Het aantal woorden is: 71235\n",
      "Het aantal zinnen is: 6638\n",
      "Het aantal speciale tekens is:  11421\n",
      "Het gemiddeld aantal woorden per zin is: 11\n",
      "Het gemiddeld aantal speciale tekens per zin is: 2\n"
     ]
    }
   ],
   "source": [
    "#Code voor YA boeken\n",
    "\n",
    "# Lezen van boeken\n",
    "# sample3.txt moet dan natuurlijk vervangen worden door het boek\n",
    "# from pathlib import Path\n",
    "# file = Path.cwd() / 'YA boeken/sample3.txt'\n",
    "# with open(file, 'r') as text:\n",
    "#     textfile = text.read()\n",
    "#     print(textfile)\n",
    "\n",
    "aantal_woorden_YA = []\n",
    "aantal_zinnen_YA = []\n",
    "speciale_tekens_YA = []\n",
    "speciale_tekens_YA_fq = {}\n",
    "\n",
    "# Tel het aantal woorden in de textfile\n",
    "aantal_woorden = len(textfile.split())\n",
    "print(\"Het aantal woorden is:\", aantal_woorden)\n",
    "\n",
    "# Tel het aantal zinnen in de textfile\n",
    "aantal_zinnen = len(sent_tokenize(textfile))\n",
    "print(\"Het aantal zinnen is:\", aantal_zinnen)\n",
    "\n",
    "# Tel het aantal speciale tekens in de textfile\n",
    "special_chars = string.punctuation\n",
    "aantal_spec_tekens = sum(v for k, v in ct.Counter(textfile).items() if k in special_chars)\n",
    "print(\"Het aantal speciale tekens is: \", aantal_spec_tekens)\n",
    "\n",
    "moeilijkheid_woorden = aantal_woorden / aantal_zinnen\n",
    "moeilijkheid_tekens = aantal_spec_tekens / aantal_zinnen\n",
    "print(\"Het gemiddeld aantal woorden per zin is:\", int(round(moeilijkheid_woorden,0)))\n",
    "print(\"Het gemiddeld aantal speciale tekens per zin is:\", int(round(moeilijkheid_tekens,0)))\n",
    "\n",
    "# Inspiration to show difficulty rate: https://ux.stackexchange.com/questions/55284/what-is-the-best-way-to-show-complexity-or-difficulty-rate\n",
    "\n",
    "# # Functie om het aantal woorden in de tekst te tellen\n",
    "# def tel_aantal_woorden(tekst):\n",
    "#     woorden = tekst.split()  # Splitst de tekst in woorden op basis van spaties\n",
    "#     return len(woorden)\n",
    "\n",
    "# # Functie om het aantal zinnen in de tekst te tellen\n",
    "# import re\n",
    "# def tel_aantal_zinnen(tekst):\n",
    "#     zinnen = re.split(r'(?<=[.!?]) +', tekst)  # Splitst de tekst in zinnen op basis van leestekens (. ! ?)\n",
    "#     return len(zinnen)\n",
    "\n",
    "# # Functie om het aantal speciale tekens in de tekst te tellen\n",
    "# def vind_en_tel_speciale_tekens(tekst):\n",
    "#     for teken in tekst:\n",
    "#         # Controleer of het teken een speciaal teken is (geen alfanumeriek teken of spatie)\n",
    "#         if not teken.isalnum() and not teken.isspace():\n",
    "#             speciale_tekens_YA.append(teken)\n",
    "\n",
    "#     # Tel de frequentie van speciale tekens en sla op in de dictionary\n",
    "#     speciale_tekens_YA_fq = dict(Counter(speciale_tekens_YA))\n",
    "#     return speciale_tekens_YA_fq\n",
    "\n",
    "\n",
    "# # Gebruik de functies op de tekst van het boek\n",
    "# aantal_woorden = tel_aantal_woorden(textfile)\n",
    "# aantal_zinnen = tel_aantal_zinnen(textfile) \n",
    "# resultaat_speciale_tekens = vind_en_tel_speciale_tekens(textfile) \n",
    "\n",
    "# # Print de resultaten\n",
    "# print(\"Aantal woorden in het boek:\", aantal_woorden)\n",
    "# print(\"Aantal zinnen in het boek:\", aantal_zinnen)\n",
    "# print(\"Frequentie van speciale tekens:\", resultaat_speciale_tekens) \n",
    "\n",
    "# # Bereken de moeilijkheidsgraad\n",
    "# moeilijkheidsgraad = bereken_moeilijkheidsgraad(aantal_woorden, aantal_zinnen, resultaat_speciale_tekens)\n",
    "\n",
    "# # Converteer moeilijkheidsgraad naar een score tussen 1 en 10\n",
    "# def bereken_score(moeilijkheidsgraad):\n",
    "#     # Omgekeerd evenredig: hoe hoger de moeilijkheidsgraad, hoe lager de score\n",
    "#     score = 10 - moeilijkheidsgraad * 10\n",
    "#     return max(1, min(10, round(score)))  # Zorg ervoor dat de score tussen 1 en 10 ligt\n",
    "\n",
    "# # Roep de functie aan om de score te berekenen\n",
    "# score = bereken_score(moeilijkheidsgraad)\n",
    "\n",
    "# # Druk de score af\n",
    "# print(\"Score van het boek:\", score)"
   ]
  },
  {
   "cell_type": "code",
   "execution_count": null,
   "id": "480b256c",
   "metadata": {},
   "outputs": [],
   "source": [
    "#Code voor Non-YA boeken\n",
    "aantal_woorden_NOYA = []\n",
    "aantal_zinnen_NOYA = []\n",
    "speciale_tekens_NOYA = []\n",
    "speciale_tekens_NOYA_fq = {}"
   ]
  }
 ],
 "metadata": {
  "kernelspec": {
   "display_name": "Python 3 (ipykernel)",
   "language": "python",
   "name": "python3"
  },
  "language_info": {
   "codemirror_mode": {
    "name": "ipython",
    "version": 3
   },
   "file_extension": ".py",
   "mimetype": "text/x-python",
   "name": "python",
   "nbconvert_exporter": "python",
   "pygments_lexer": "ipython3",
   "version": "3.11.4"
  }
 },
 "nbformat": 4,
 "nbformat_minor": 5
}
