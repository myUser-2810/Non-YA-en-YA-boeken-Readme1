{
 "cells": [
  {
   "cell_type": "code",
   "execution_count": null,
   "id": "721a6acf",
   "metadata": {},
   "outputs": [],
   "source": [
    "# Notes"
   ]
  },
  {
   "cell_type": "code",
   "execution_count": null,
   "id": "7774e8fe",
   "metadata": {},
   "outputs": [],
   "source": [
    "# manier 1 om files te lezen\n",
    "from pathlib import Path\n",
    "file = Path.cwd() / 'non-YA txt/spinder.txt'\n",
    "with open(file, 'r') as text:\n",
    "    boekSPIN = text.read()\n",
    "    print(boekSPIN)"
   ]
  },
  {
   "cell_type": "code",
   "execution_count": null,
   "id": "fb5ab8c9",
   "metadata": {},
   "outputs": [],
   "source": [
    "# manier 2 om files te lezen\n",
    "file_path = 'non-YA txt/spinder.txt'\n",
    "with open(file_path, 'r') as text:\n",
    "    bookSPIN = text.read()\n",
    "    print (bookSPIN)"
   ]
  },
  {
   "cell_type": "code",
   "execution_count": null,
   "id": "e907b2e9",
   "metadata": {},
   "outputs": [],
   "source": [
    "# modulaire (?) code voor een lijst van boeken\n",
    "\n",
    "def read_books (file_path):\n",
    "    with open(file_path, 'r') as text:\n",
    "        return text.read()\n",
    "    \n",
    "file_paths = [\n",
    "    'non-YA txt/DeLimonadejagers.txt',\n",
    "     ]\n",
    "\n",
    "nieuw_boek = '*' * 110\n",
    "\n",
    "for path in file_paths:\n",
    "    tekst_uit_boek = read_books(path)\n",
    "    print (f\"{tekst_uit_boek}\\n{nieuw_boek}\\n\\n\\n\\n\")"
   ]
  }
 ],
 "metadata": {
  "kernelspec": {
   "display_name": "Python 3 (ipykernel)",
   "language": "python",
   "name": "python3"
  },
  "language_info": {
   "codemirror_mode": {
    "name": "ipython",
    "version": 3
   },
   "file_extension": ".py",
   "mimetype": "text/x-python",
   "name": "python",
   "nbconvert_exporter": "python",
   "pygments_lexer": "ipython3",
   "version": "3.11.4"
  }
 },
 "nbformat": 4,
 "nbformat_minor": 5
}
