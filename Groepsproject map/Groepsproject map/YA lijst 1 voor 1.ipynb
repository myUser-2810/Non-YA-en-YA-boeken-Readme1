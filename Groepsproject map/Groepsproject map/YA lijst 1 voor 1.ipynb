{
 "cells": [
  {
   "cell_type": "code",
   "execution_count": null,
   "id": "fc1c5a0f",
   "metadata": {},
   "outputs": [],
   "source": [
    "# YA boeken 1 voor 1 \n",
    "# Titel (jaar van publicatie die gebruikt is)"
   ]
  },
  {
   "cell_type": "code",
   "execution_count": null,
   "id": "022cc570",
   "metadata": {},
   "outputs": [],
   "source": [
    "# Brainwash (2012)\n",
    "\n",
    "file_path = 'YA txt files/Brainwash.txt'\n",
    "with open(file_path, 'r') as text:\n",
    "    boekBRAI = text.read()\n",
    "    print (boekBRAI)"
   ]
  },
  {
   "cell_type": "code",
   "execution_count": null,
   "id": "6af46b4a",
   "metadata": {},
   "outputs": [],
   "source": [
    "# De Hongerspelen (2009)\n",
    "\n",
    "file_path = 'YA txt files/DeHongerspelen.txt'\n",
    "with open(file_path, 'r') as text:\n",
    "    boekDHSP = text.read()\n",
    "    print (boekDHSP)"
   ]
  },
  {
   "cell_type": "code",
   "execution_count": null,
   "id": "b10da53d",
   "metadata": {},
   "outputs": [],
   "source": [
    "# De Selectie (2014)\n",
    "\n",
    "file_path = 'YA txt files/DeSelectie.txt'\n",
    "with open(file_path, 'r') as text:\n",
    "    boekSLCT = text.read()\n",
    "    print (boekSLCT)"
   ]
  },
  {
   "cell_type": "code",
   "execution_count": null,
   "id": "77c85213",
   "metadata": {},
   "outputs": [],
   "source": [
    "# Een Weeffout in onze sterren (2012)\n",
    "\n",
    "file_path = 'YA txt files/EenWeeffoutInOnzeSterren.txt'\n",
    "with open(file_path, 'r') as text:\n",
    "    boekWIOS = text.read()\n",
    "    print (boekWIOS)"
   ]
  },
  {
   "cell_type": "code",
   "execution_count": null,
   "id": "31cc3f81",
   "metadata": {},
   "outputs": [],
   "source": [
    "# Fout (2008)\n",
    "\n",
    "file_path = 'YA txt files/Fout.txt'\n",
    "with open(file_path, 'r') as text:\n",
    "    boekFOUT = text.read()\n",
    "    print (boekFOUT)"
   ]
  },
  {
   "cell_type": "code",
   "execution_count": null,
   "id": "c67478d2",
   "metadata": {},
   "outputs": [],
   "source": [
    "# Kapot (2015)\n",
    "\n",
    "file_path = 'YA txt files/Kapot.txt'\n",
    "with open(file_path, 'r') as text:\n",
    "    boekKAPT = text.read()\n",
    "    print (boekKAPT)"
   ]
  },
  {
   "cell_type": "code",
   "execution_count": null,
   "id": "65166196",
   "metadata": {},
   "outputs": [],
   "source": [
    "# Kil (2014)\n",
    "\n",
    "file_path = 'YA txt files/Kil.txt'\n",
    "with open(file_path, 'r') as text:\n",
    "    boekKIL = text.read()\n",
    "    print (boekKIL)"
   ]
  },
  {
   "cell_type": "code",
   "execution_count": null,
   "id": "cdb899bb",
   "metadata": {},
   "outputs": [],
   "source": [
    "# Klem (2012)\n",
    "\n",
    "file_path = 'YA txt files/Klem.txt'\n",
    "with open(file_path, 'r') as text:\n",
    "    boekKLEM = text.read()\n",
    "    print (boekKLEM)"
   ]
  },
  {
   "cell_type": "code",
   "execution_count": null,
   "id": "55ab942d",
   "metadata": {},
   "outputs": [],
   "source": [
    "# Vals (2010)\n",
    "\n",
    "file_path = 'YA txt files/Vals.txt'\n",
    "with open(file_path, 'r') as text:\n",
    "    boekVALS = text.read()\n",
    "    print (boekVALS)"
   ]
  },
  {
   "cell_type": "code",
   "execution_count": null,
   "id": "35d82bf1",
   "metadata": {},
   "outputs": [],
   "source": [
    "# Wreed (2013)\n",
    "\n",
    "file_path = 'YA txt files/Wreed.txt'\n",
    "with open(file_path, 'r') as text:\n",
    "    boekWREED = text.read()\n",
    "    print (boekWREED)"
   ]
  }
 ],
 "metadata": {
  "kernelspec": {
   "display_name": "Python 3 (ipykernel)",
   "language": "python",
   "name": "python3"
  },
  "language_info": {
   "codemirror_mode": {
    "name": "ipython",
    "version": 3
   },
   "file_extension": ".py",
   "mimetype": "text/x-python",
   "name": "python",
   "nbconvert_exporter": "python",
   "pygments_lexer": "ipython3",
   "version": "3.11.4"
  }
 },
 "nbformat": 4,
 "nbformat_minor": 5
}
