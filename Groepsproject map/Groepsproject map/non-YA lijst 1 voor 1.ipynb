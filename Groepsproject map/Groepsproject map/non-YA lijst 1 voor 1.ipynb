{
 "cells": [
  {
   "cell_type": "code",
   "execution_count": null,
   "id": "6f794615",
   "metadata": {},
   "outputs": [],
   "source": [
    "# non-YA boeken 1 voor 1 \n",
    "# Titel (jaar van publicatie die gebruikt is)"
   ]
  },
  {
   "cell_type": "code",
   "execution_count": null,
   "id": "e2aaada2",
   "metadata": {},
   "outputs": [],
   "source": [
    "# De Limonadejagers (2013)\n",
    "\n",
    "file_path = 'non-YA txt files/DeLimonadejagers.txt'\n",
    "with open(file_path, 'r') as text:\n",
    "    boekLIMO = text.read()\n",
    "    print (boekLIMO)"
   ]
  },
  {
   "cell_type": "code",
   "execution_count": null,
   "id": "efce30a5",
   "metadata": {},
   "outputs": [],
   "source": [
    "# De Schippers van de Kameleon (1950)\n",
    "\n",
    "file_path = 'non-YA txt files/DeSchippersVanDeKameleon.txt'\n",
    "with open(file_path, 'r') as text:\n",
    "    boekSVDK = text.read()\n",
    "    print (boekSVDK)\n",
    "    "
   ]
  },
  {
   "cell_type": "code",
   "execution_count": null,
   "id": "2ebb902f",
   "metadata": {},
   "outputs": [],
   "source": [
    "# Dief met duizens gezichten (2004)\n",
    "\n",
    "file_path = 'non-YA txt files/DiefMetDuizendGezichten.txt'\n",
    "with open(file_path, 'r') as text:\n",
    "    boekDMDG = text.read()\n",
    "    print (boekDMDG)"
   ]
  },
  {
   "cell_type": "code",
   "execution_count": null,
   "id": "7766c01b",
   "metadata": {},
   "outputs": [],
   "source": [
    "# Het groene labyrint (1988)\n",
    "\n",
    "file_path = 'non-YA txt files/HetGroeneLabyrint.txt'\n",
    "with open(file_path, 'r') as text:\n",
    "    boekGLAB = text.read()\n",
    "    print (boekGLAB)"
   ]
  },
  {
   "cell_type": "code",
   "execution_count": null,
   "id": "908deea1",
   "metadata": {},
   "outputs": [],
   "source": [
    "# Oorlogsgeheimen (2007)\n",
    "\n",
    "file_path = 'non-YA txt files/Oorlogsgeheimen.txt'\n",
    "with open(file_path, 'r') as text:\n",
    "    boekOORG = text.read()\n",
    "    print (boekOORG)"
   ]
  },
  {
   "cell_type": "code",
   "execution_count": null,
   "id": "c78c1a48",
   "metadata": {},
   "outputs": [],
   "source": [
    "# Radeloos (2008)\n",
    "\n",
    "file_path = 'non-YA txt files/Radeloos.txt'\n",
    "with open(file_path, 'r') as text:\n",
    "    boekRADE = text.read()\n",
    "    print (boekRADE)"
   ]
  },
  {
   "cell_type": "code",
   "execution_count": null,
   "id": "1284d219",
   "metadata": {},
   "outputs": [],
   "source": [
    "# Sjakie en de chocoladefabriek (1997)\n",
    "\n",
    "file_path = 'non-YA txt files/SjakieEnDeChocoladefabriek.txt'\n",
    "with open(file_path, 'r') as text:\n",
    "    boekSEDC = text.read()\n",
    "    print (boekSEDC)"
   ]
  },
  {
   "cell_type": "code",
   "execution_count": null,
   "id": "f35b7881",
   "metadata": {},
   "outputs": [],
   "source": [
    "# Spinder (2012)\n",
    "\n",
    "file_path = 'non-YA txt files/Spinder.txt'\n",
    "with open(file_path, 'r') as text:\n",
    "    boekSPIN = text.read()\n",
    "    print (boekSPIN)"
   ]
  },
  {
   "cell_type": "code",
   "execution_count": null,
   "id": "59066840",
   "metadata": {},
   "outputs": [],
   "source": [
    "# Superhelden.NL (2011)\n",
    "\n",
    "file_path = 'non-YA txt files/SuperheldenNL.txt'\n",
    "with open(file_path, 'r') as text:\n",
    "    boekSHNL = text.read()\n",
    "    print (boekSHNL)"
   ]
  },
  {
   "cell_type": "code",
   "execution_count": null,
   "id": "3d20c3a0",
   "metadata": {},
   "outputs": [],
   "source": [
    "# Vreemd Land (1995)\n",
    "\n",
    "file_path = 'non-YA txt files/VreemdLand.txt'\n",
    "with open(file_path, 'r') as text:\n",
    "    boekVRLD = text.read()\n",
    "    print (boekVRLD)"
   ]
  }
 ],
 "metadata": {
  "kernelspec": {
   "display_name": "Python 3 (ipykernel)",
   "language": "python",
   "name": "python3"
  },
  "language_info": {
   "codemirror_mode": {
    "name": "ipython",
    "version": 3
   },
   "file_extension": ".py",
   "mimetype": "text/x-python",
   "name": "python",
   "nbconvert_exporter": "python",
   "pygments_lexer": "ipython3",
   "version": "3.11.4"
  }
 },
 "nbformat": 4,
 "nbformat_minor": 5
}
